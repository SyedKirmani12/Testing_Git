{
  "metadata": {
    "kernelspec": {
      "name": "python",
      "display_name": "Pyolite",
      "language": "python"
    },
    "language_info": {
      "codemirror_mode": {
        "name": "python",
        "version": 3
      },
      "file_extension": ".py",
      "mimetype": "text/x-python",
      "name": "python",
      "nbconvert_exporter": "python",
      "pygments_lexer": "ipython3",
      "version": "3.8"
    }
  },
  "nbformat_minor": 4,
  "nbformat": 4,
  "cells": [
    {
      "cell_type": "markdown",
      "source": "<center>\n    <img src=\"https://s3-api.us-geo.objectstorage.softlayer.net/cf-courses-data/CognitiveClass/Logos/organization_logo/organization_logo.png\" width=\"300\" alt=\"cognitiveclass.ai logo\"  />\n</center>\n",
      "metadata": {}
    },
    {
      "cell_type": "markdown",
      "source": "# My Jypyter Notebook On IBM Watson Studio",
      "metadata": {}
    },
    {
      "cell_type": "markdown",
      "source": "**Syed Ali Mehdi Kirmani**\n###### Mechatronics Engineer",
      "metadata": {}
    },
    {
      "cell_type": "markdown",
      "source": "*I am interested in Data Science because I have a strong engineering and analytical background*",
      "metadata": {}
    },
    {
      "cell_type": "markdown",
      "source": "### The code below uses a function to sum two numbers as provided by the user",
      "metadata": {}
    },
    {
      "cell_type": "code",
      "source": "def add_num(num1,num2):\n    return(num1+num2)\nprint(add_num(2,3))",
      "metadata": {
        "trusted": true
      },
      "execution_count": 4,
      "outputs": [
        {
          "name": "stdout",
          "text": "5\n",
          "output_type": "stream"
        }
      ]
    },
    {
      "cell_type": "markdown",
      "source": "| Name | Age | Gender|\n|:-:|:-:|:-:|\n| Kirmani | 22 | Male |\n- Name\n- Age\n- Gender\n1. Kirmani\n2. 22\n3. Male",
      "metadata": {}
    }
  ]
}